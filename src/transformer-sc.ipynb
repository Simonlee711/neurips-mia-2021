{
 "cells": [
  {
   "cell_type": "markdown",
   "id": "1726ddd1",
   "metadata": {},
   "source": [
    "# Transformer model for scRNA-seq"
   ]
  },
  {
   "cell_type": "code",
   "execution_count": 1,
   "id": "6fa71a76",
   "metadata": {},
   "outputs": [],
   "source": [
    "'''\n",
    "Predicting Modalities in a single cell using the transformer: a deep learning architecture.\n",
    "'''\n",
    "__author__ = 'Vedu Mallela: vedu.mallela@gmail.com, Simon Lee: siaulee@ucsc.edu'"
   ]
  },
  {
   "cell_type": "markdown",
   "id": "ffcf91ff",
   "metadata": {},
   "source": [
    "Import all files and modules for this competition"
   ]
  },
  {
   "cell_type": "code",
   "execution_count": 3,
   "id": "8a0c65ea",
   "metadata": {},
   "outputs": [],
   "source": [
    "import scanpy as sc\n",
    "import anndata as ad\n",
    "import matplotlib.pyplot as plt\n",
    "\n",
    "import numpy as np\n",
    "import pandas as pd\n",
    "import logging\n",
    "\n",
    "import torch\n",
    "\n",
    "from sklearn.decomposition import TruncatedSVD\n",
    "from sklearn.linear_model import LinearRegression\n",
    "from sklearn.metrics import mean_squared_error"
   ]
  },
  {
   "cell_type": "markdown",
   "id": "e59dd606",
   "metadata": {},
   "source": [
    "# LOAD DATA"
   ]
  },
  {
   "cell_type": "code",
   "execution_count": null,
   "id": "d91dad96",
   "metadata": {},
   "outputs": [],
   "source": [
    "path = '../../data/explore/multiome/'\n",
    "outpath ='../out/'\n",
    "adata_gex = ad.read_h5ad(path + \"multiome_gex_processed_training.h5ad\")\n",
    "adata_atac = ad.read_h5ad(path + \"multiome_atac_processed_training.h5ad\")"
   ]
  }
 ],
 "metadata": {
  "kernelspec": {
   "display_name": "Python 3",
   "language": "python",
   "name": "python3"
  },
  "language_info": {
   "codemirror_mode": {
    "name": "ipython",
    "version": 3
   },
   "file_extension": ".py",
   "mimetype": "text/x-python",
   "name": "python",
   "nbconvert_exporter": "python",
   "pygments_lexer": "ipython3",
   "version": "3.8.8"
  }
 },
 "nbformat": 4,
 "nbformat_minor": 5
}
